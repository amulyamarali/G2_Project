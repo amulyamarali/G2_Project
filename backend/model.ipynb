{
 "cells": [
  {
   "cell_type": "markdown",
   "metadata": {},
   "source": [
    "# bert-base-multilingual-uncased-sentiment 🧠\n",
    "This is a bert-base-multilingual-uncased model finetuned for sentiment analysis on product reviews in six languages: English, Dutch, German, French, Spanish, and Italian. It predicts the sentiment of the review as a number of stars (between 1 and 5).\n",
    "\n",
    "This model is intended for direct use as a sentiment analysis model for product reviews in any of the six languages above or for further finetuning on related sentiment analysis tasks."
   ]
  },
  {
   "cell_type": "markdown",
   "metadata": {},
   "source": [
    "### The below code produces score for \"recommendations\", \"love\", \"hate\", \"benifits\""
   ]
  },
  {
   "cell_type": "code",
   "execution_count": 2,
   "metadata": {},
   "outputs": [
    {
     "name": "stderr",
     "output_type": "stream",
     "text": [
      "c:\\Users\\maral\\miniconda3\\envs\\gdsc\\lib\\site-packages\\tqdm\\auto.py:21: TqdmWarning: IProgress not found. Please update jupyter and ipywidgets. See https://ipywidgets.readthedocs.io/en/stable/user_install.html\n",
      "  from .autonotebook import tqdm as notebook_tqdm\n"
     ]
    }
   ],
   "source": [
    "from transformers import AutoTokenizer, AutoModelForSequenceClassification\n",
    "import torch\n",
    "import requests\n",
    "from bs4 import BeautifulSoup\n",
    "import re\n",
    "\n",
    "import json\n",
    "\n",
    "# import pytchat\n",
    "\n",
    "\n",
    "import numpy as np\n",
    "import pandas as pd"
   ]
  },
  {
   "cell_type": "code",
   "execution_count": 3,
   "metadata": {},
   "outputs": [
    {
     "name": "stderr",
     "output_type": "stream",
     "text": [
      "c:\\Users\\maral\\miniconda3\\envs\\gdsc\\lib\\site-packages\\transformers\\utils\\generic.py:311: UserWarning: torch.utils._pytree._register_pytree_node is deprecated. Please use torch.utils._pytree.register_pytree_node instead.\n",
      "  torch.utils._pytree._register_pytree_node(\n"
     ]
    }
   ],
   "source": [
    "tokenizer = AutoTokenizer.from_pretrained('nlptown/bert-base-multilingual-uncased-sentiment')\n",
    "model = AutoModelForSequenceClassification.from_pretrained('nlptown/bert-base-multilingual-uncased-sentiment')"
   ]
  },
  {
   "cell_type": "code",
   "execution_count": 4,
   "metadata": {},
   "outputs": [],
   "source": [
    "def sentiment_score(review):\n",
    "    tokens = tokenizer.encode(review, return_tensors='pt')\n",
    "    result = model(tokens)\n",
    "    return int(torch.argmax(result.logits))+1"
   ]
  },
  {
   "cell_type": "code",
   "execution_count": 5,
   "metadata": {},
   "outputs": [
    {
     "data": {
      "text/html": [
       "<div>\n",
       "<style scoped>\n",
       "    .dataframe tbody tr th:only-of-type {\n",
       "        vertical-align: middle;\n",
       "    }\n",
       "\n",
       "    .dataframe tbody tr th {\n",
       "        vertical-align: top;\n",
       "    }\n",
       "\n",
       "    .dataframe thead th {\n",
       "        text-align: right;\n",
       "    }\n",
       "</style>\n",
       "<table border=\"1\" class=\"dataframe\">\n",
       "  <thead>\n",
       "    <tr style=\"text-align: right;\">\n",
       "      <th></th>\n",
       "      <th>q_id</th>\n",
       "      <th>question</th>\n",
       "      <th>question_type</th>\n",
       "      <th>answer</th>\n",
       "      <th>link</th>\n",
       "    </tr>\n",
       "  </thead>\n",
       "  <tbody>\n",
       "    <tr>\n",
       "      <th>0</th>\n",
       "      <td>0</td>\n",
       "      <td>Recommendations to others considering the prod...</td>\n",
       "      <td>recommendations</td>\n",
       "      <td>Learn more about best practices and ways to le...</td>\n",
       "      <td>NaN</td>\n",
       "    </tr>\n",
       "    <tr>\n",
       "      <th>1</th>\n",
       "      <td>0</td>\n",
       "      <td>Recommendations to others considering the prod...</td>\n",
       "      <td>recommendations</td>\n",
       "      <td>If you're a Saas company focused on growth, yo...</td>\n",
       "      <td>NaN</td>\n",
       "    </tr>\n",
       "    <tr>\n",
       "      <th>2</th>\n",
       "      <td>0</td>\n",
       "      <td>Recommendations to others considering the prod...</td>\n",
       "      <td>recommendations</td>\n",
       "      <td>The success of Advocately ultimately falls bac...</td>\n",
       "      <td>NaN</td>\n",
       "    </tr>\n",
       "    <tr>\n",
       "      <th>3</th>\n",
       "      <td>0</td>\n",
       "      <td>Recommendations to others considering the prod...</td>\n",
       "      <td>recommendations</td>\n",
       "      <td>Make sure you know where you would like the re...</td>\n",
       "      <td>NaN</td>\n",
       "    </tr>\n",
       "    <tr>\n",
       "      <th>4</th>\n",
       "      <td>0</td>\n",
       "      <td>Recommendations to others considering the prod...</td>\n",
       "      <td>recommendations</td>\n",
       "      <td>Qualify your list!</td>\n",
       "      <td>NaN</td>\n",
       "    </tr>\n",
       "  </tbody>\n",
       "</table>\n",
       "</div>"
      ],
      "text/plain": [
       "   q_id                                           question    question_type  \\\n",
       "0     0  Recommendations to others considering the prod...  recommendations   \n",
       "1     0  Recommendations to others considering the prod...  recommendations   \n",
       "2     0  Recommendations to others considering the prod...  recommendations   \n",
       "3     0  Recommendations to others considering the prod...  recommendations   \n",
       "4     0  Recommendations to others considering the prod...  recommendations   \n",
       "\n",
       "                                              answer link  \n",
       "0  Learn more about best practices and ways to le...  NaN  \n",
       "1  If you're a Saas company focused on growth, yo...  NaN  \n",
       "2  The success of Advocately ultimately falls bac...  NaN  \n",
       "3  Make sure you know where you would like the re...  NaN  \n",
       "4                                Qualify your list!   NaN  "
      ]
     },
     "execution_count": 5,
     "metadata": {},
     "output_type": "execute_result"
    }
   ],
   "source": [
    "# put questions.csv in df\n",
    "df = pd.read_csv('question.csv')\n",
    "df.head()"
   ]
  },
  {
   "cell_type": "code",
   "execution_count": 6,
   "metadata": {},
   "outputs": [
    {
     "name": "stdout",
     "output_type": "stream",
     "text": [
      "We wanted to find better ways to reach out to our NPS promoters and to get reviews on app marketplaces like Shopify and Xero.\n",
      "We get a lot of verbal reviews and written feedback, unfortunately there is very little which contributes to any platforms. We used advocate.ly to get those reviews contributing to NPS. \n",
      "It always was a problem how to get reviews in different review websites. We were trying to ask our loyal clients to write their feedback in certain resources, but didn�t get much from this experience.  I think Advocately is smart solution for any business. It is not limited campaign, you are getting positive reviews from your clients all the time and only from those, who rated our service 9 or 10. \n",
      "Problems: cutting the red tape of getting customers on the record; validating customer testimonials; SEO; collecting unbiased customer feedback; creating meaningful, high-quality content for brand and product validation.Benefits: identifying brand strengths; capturing the voice of the customer; providing public references to prospects.\n",
      "Score: 5, Frequency: 50\n",
      "Score: 3, Frequency: 9\n",
      "Score: 4, Frequency: 24\n",
      "Score: 2, Frequency: 4\n"
     ]
    }
   ],
   "source": [
    "# Initialize an empty dictionary to store the frequencies\n",
    "score_freq = {}\n",
    "\n",
    "for i in range(len(df)):\n",
    "    if df['question_type'][i] == 'benefits':\n",
    "        # Get the sentiment score\n",
    "        score = sentiment_score(df['answer'][i])\n",
    "        if score == 2:\n",
    "            print(df['answer'][i])\n",
    "        \n",
    "        # If the score is already in the dictionary, increment its count\n",
    "        if score in score_freq:\n",
    "            score_freq[score] += 1\n",
    "        # If the score is not in the dictionary, add it with a count of 1\n",
    "        else:\n",
    "            score_freq[score] = 1\n",
    "\n",
    "# Print the frequencies\n",
    "for score, freq in score_freq.items():\n",
    "    print(f\"Score: {score}, Frequency: {freq}\")"
   ]
  },
  {
   "cell_type": "code",
   "execution_count": null,
   "metadata": {},
   "outputs": [],
   "source": []
  },
  {
   "cell_type": "markdown",
   "metadata": {},
   "source": [
    "# Creating content.txt 📝"
   ]
  },
  {
   "cell_type": "code",
   "execution_count": 7,
   "metadata": {},
   "outputs": [],
   "source": [
    "# add the answers of \"recommendations\", \"love\", \"hate\", \"beniftis\" in content.txt\n",
    "\n",
    "for i in range(len(df)):\n",
    "    if df['question_type'][i] == 'recommendations':\n",
    "        with open('content.txt', 'a', encoding='utf-8') as f:\n",
    "            f.write(df['answer'][i] + '\\n')\n",
    "    if df['question_type'][i] == 'love':\n",
    "        with open('content.txt', 'a', encoding='utf-8') as f:\n",
    "            f.write(df['answer'][i] + '\\n')\n",
    "    if df['question_type'][i] == 'hate':\n",
    "        with open('content.txt', 'a', encoding='utf-8') as f:\n",
    "            f.write(df['answer'][i] + '\\n')\n",
    "    if df['question_type'][i] == 'benefits':\n",
    "        with open('content.txt', 'a', encoding='utf-8') as f:\n",
    "            f.write(df['answer'][i] + '\\n')\n"
   ]
  },
  {
   "cell_type": "code",
   "execution_count": null,
   "metadata": {},
   "outputs": [],
   "source": []
  },
  {
   "cell_type": "code",
   "execution_count": null,
   "metadata": {},
   "outputs": [],
   "source": []
  },
  {
   "cell_type": "code",
   "execution_count": null,
   "metadata": {},
   "outputs": [],
   "source": []
  },
  {
   "cell_type": "code",
   "execution_count": null,
   "metadata": {},
   "outputs": [],
   "source": []
  }
 ],
 "metadata": {
  "kernelspec": {
   "display_name": "gdsc",
   "language": "python",
   "name": "python3"
  },
  "language_info": {
   "codemirror_mode": {
    "name": "ipython",
    "version": 3
   },
   "file_extension": ".py",
   "mimetype": "text/x-python",
   "name": "python",
   "nbconvert_exporter": "python",
   "pygments_lexer": "ipython3",
   "version": "3.9.18"
  }
 },
 "nbformat": 4,
 "nbformat_minor": 2
}
